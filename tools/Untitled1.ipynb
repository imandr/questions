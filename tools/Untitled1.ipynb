{
 "cells": [
  {
   "cell_type": "code",
   "execution_count": 1,
   "metadata": {
    "collapsed": false
   },
   "outputs": [
    {
     "data": {
      "text/plain": [
       "[array([ 0.87992632,  0.0973243 ,  0.77573197,  0.98820688]),\n",
       " array([ 0.10583878,  0.4157038 ,  0.25556514,  0.847697  ]),\n",
       " array([ 0.51943242,  0.92732835,  0.18789242,  0.47821462]),\n",
       " array([ 0.03130225,  0.91170519,  0.82503654,  0.68131536]),\n",
       " array([ 0.63365105,  0.70758333,  0.74662303,  0.90580158])]"
      ]
     },
     "execution_count": 1,
     "metadata": {},
     "output_type": "execute_result"
    }
   ],
   "source": [
    "import pandas as pd\n",
    "import numpy as np\n",
    "\n",
    "lst = [np.random.random((4,)) for _ in range(5)]\n",
    "lst"
   ]
  },
  {
   "cell_type": "code",
   "execution_count": 2,
   "metadata": {
    "collapsed": false
   },
   "outputs": [
    {
     "data": {
      "text/plain": [
       "0    [0.879926323614, 0.097324304781, 0.77573197417...\n",
       "1    [0.105838777111, 0.415703803564, 0.25556514358...\n",
       "2    [0.519432416875, 0.927328345548, 0.18789241645...\n",
       "3    [0.0313022488958, 0.911705189526, 0.8250365403...\n",
       "4    [0.633651053862, 0.707583334048, 0.74662303020...\n",
       "dtype: object"
      ]
     },
     "execution_count": 2,
     "metadata": {},
     "output_type": "execute_result"
    }
   ],
   "source": [
    "series = pd.Series(lst)\n",
    "series"
   ]
  },
  {
   "cell_type": "code",
   "execution_count": 4,
   "metadata": {
    "collapsed": false
   },
   "outputs": [
    {
     "data": {
      "text/html": [
       "<div>\n",
       "<table border=\"1\" class=\"dataframe\">\n",
       "  <thead>\n",
       "    <tr style=\"text-align: right;\">\n",
       "      <th></th>\n",
       "      <th>0</th>\n",
       "    </tr>\n",
       "  </thead>\n",
       "  <tbody>\n",
       "    <tr>\n",
       "      <th>a</th>\n",
       "      <td>[0.879926323614, 0.097324304781, 0.77573197417...</td>\n",
       "    </tr>\n",
       "    <tr>\n",
       "      <th>b</th>\n",
       "      <td>[0.105838777111, 0.415703803564, 0.25556514358...</td>\n",
       "    </tr>\n",
       "    <tr>\n",
       "      <th>c</th>\n",
       "      <td>[0.519432416875, 0.927328345548, 0.18789241645...</td>\n",
       "    </tr>\n",
       "    <tr>\n",
       "      <th>d</th>\n",
       "      <td>[0.0313022488958, 0.911705189526, 0.8250365403...</td>\n",
       "    </tr>\n",
       "    <tr>\n",
       "      <th>e</th>\n",
       "      <td>[0.633651053862, 0.707583334048, 0.74662303020...</td>\n",
       "    </tr>\n",
       "  </tbody>\n",
       "</table>\n",
       "</div>"
      ],
      "text/plain": [
       "                                                   0\n",
       "a  [0.879926323614, 0.097324304781, 0.77573197417...\n",
       "b  [0.105838777111, 0.415703803564, 0.25556514358...\n",
       "c  [0.519432416875, 0.927328345548, 0.18789241645...\n",
       "d  [0.0313022488958, 0.911705189526, 0.8250365403...\n",
       "e  [0.633651053862, 0.707583334048, 0.74662303020..."
      ]
     },
     "execution_count": 4,
     "metadata": {},
     "output_type": "execute_result"
    }
   ],
   "source": [
    "df=pd.DataFrame(series)\n",
    "df.index=['a','b','c','d','e']\n",
    "df"
   ]
  },
  {
   "cell_type": "code",
   "execution_count": null,
   "metadata": {
    "collapsed": true
   },
   "outputs": [],
   "source": []
  }
 ],
 "metadata": {
  "kernelspec": {
   "display_name": "Python 2",
   "language": "python",
   "name": "python2"
  },
  "language_info": {
   "codemirror_mode": {
    "name": "ipython",
    "version": 2
   },
   "file_extension": ".py",
   "mimetype": "text/x-python",
   "name": "python",
   "nbconvert_exporter": "python",
   "pygments_lexer": "ipython2",
   "version": "2.7.12"
  }
 },
 "nbformat": 4,
 "nbformat_minor": 0
}
