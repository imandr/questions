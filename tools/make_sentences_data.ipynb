{
 "cells": [
  {
   "cell_type": "code",
   "execution_count": 1,
   "metadata": {
    "collapsed": true
   },
   "outputs": [],
   "source": [
    "import pandas as pd\n",
    "import numpy as np\n",
    "import matplotlib.pyplot as plt\n",
    "import matplotlib\n",
    "from collections import Counter\n",
    "import math, random\n",
    "\n",
    "%matplotlib inline"
   ]
  },
  {
   "cell_type": "code",
   "execution_count": 2,
   "metadata": {
    "collapsed": true
   },
   "outputs": [],
   "source": [
    "def cumulative(n):\n",
    "    s = 0\n",
    "    n = sorted(n)\n",
    "    cx, cy = [], []\n",
    "    last_n = None\n",
    "    for ni in n:\n",
    "        s += 1\n",
    "        if ni != last_n:\n",
    "            last_n = ni\n",
    "            cx.append(ni)\n",
    "            cy.append(s)\n",
    "        else:\n",
    "            cy[-1] = s\n",
    "    x = np.array(cx)\n",
    "    y = np.array(cy, dtype=np.float32)/s\n",
    "    return x, y\n",
    "\n",
    "def plot_cumulative(x):\n",
    "    cx, cy = cumulative(x)\n",
    "\n",
    "    ticks_major = np.arange(0.0, 1.1, 0.1)\n",
    "    ticks_minor = np.arange(0.0, 1.1, 0.05)\n",
    "\n",
    "    xticks = np.arange(0.0, 200.0, 10)\n",
    "\n",
    "    fig = plt.figure()                                                               \n",
    "    ax = fig.add_subplot(1,1,1)                                                      \n",
    "\n",
    "    ax.plot(cx, cy)\n",
    "    ax.set_xticks(xticks)                                                       \n",
    "    ax.set_yticks(ticks_major)                                                       \n",
    "    ax.set_yticks(ticks_minor, minor=True)                                                       \n",
    "    ax.grid(True, which=\"both\")\n",
    "    plt.xscale(\"log\")\n",
    "    plt.show()"
   ]
  },
  {
   "cell_type": "code",
   "execution_count": 45,
   "metadata": {
    "collapsed": false
   },
   "outputs": [],
   "source": [
    "MaxQuestionLength = 40   # words\n",
    "MaxMissingWords = 2*MaxQuestionLength\n",
    "\n",
    "def normalize_question(q):\n",
    "    q = q.lower()\n",
    "    q = q.replace(\"?\",\" ? \")\n",
    "    q = q.replace(\"...\",\" . \")\n",
    "    q = q.replace(\"..\",\" . \")\n",
    "    q = q.replace(\".\",\" . \")\n",
    "    q = q.replace(\":\",\" : \")\n",
    "    q = q.replace(\",\",\" , \")\n",
    "    q = q.replace(\"/\",\" / \")\n",
    "    q = q.replace(\"(\",\" ( \")\n",
    "    q = q.replace(\")\",\" ) \")\n",
    "    q = q.replace(\"n't\",\" not \")    \n",
    "    q = q.replace(\"i'm\", \"i am\")\n",
    "    q = q.replace(\"[math]\", \" [math] \")\n",
    "    q = q.replace(\"[/math]\", \" [/math] \")\n",
    "    q = q.replace(\"-\",\" - \")\n",
    "    q = q.replace('\"',' \" ')\n",
    "    q = q.replace('\\xe2\\x80\\x9c', ' \" ').replace('\\xe2\\x80\\x9d', ' \" ')    \n",
    "    q = q.replace(\"'s\", \" 's \")\n",
    "    words = q.lower().split()[:MaxQuestionLength]\n",
    "    #words = map(lambda x: x.strip(), words)\n",
    "    #words = filter(lambda x: len(x) > 0, words)\n",
    "    #words = map(lambda w: w[:-1] + \" s\" if len(w)>3 and w[-1]=='s' and \n",
    "    #            not w in (\"this\", \"does\") else w, words)\n",
    "    return \" \".join(words)\n",
    "\n",
    "def word_frequencies(questions):\n",
    "    words = \" \".join(questions).split(\" \")\n",
    "    counter = Counter(words)\n",
    "    return sorted(counter.items(), key=lambda x:-x[1])\n",
    "\n",
    "\n"
   ]
  },
  {
   "cell_type": "code",
   "execution_count": 4,
   "metadata": {
    "collapsed": false
   },
   "outputs": [
    {
     "name": "stdout",
     "output_type": "stream",
     "text": [
      "Train set loaded: 404290\n",
      "Test set loaded: 2345796\n"
     ]
    }
   ],
   "source": [
    "train_df=pd.read_csv(\"/Users/igorvm/Projects/Neural/questions/data/train.csv\")\n",
    "train_df.fillna(\"\", inplace=True)\n",
    "print \"Train set loaded:\", len(train_df)\n",
    "\n",
    "test_df = pd.read_csv(\"/Users/igorvm/Projects/Neural/questions/data/test.csv\")\n",
    "test_df.fillna(\"\", inplace=True)\n",
    "print \"Test set loaded:\", len(test_df)\n"
   ]
  },
  {
   "cell_type": "code",
   "execution_count": 46,
   "metadata": {
    "collapsed": false
   },
   "outputs": [
    {
     "name": "stdout",
     "output_type": "stream",
     "text": [
      "questions normalized\n"
     ]
    }
   ],
   "source": [
    "\n",
    "test_questions = map(normalize_question, test_df[\"question1\"].tolist() + test_df[\"question2\"].tolist())\n",
    "train_questions = map(normalize_question, train_df[\"question1\"].tolist() + train_df[\"question2\"].tolist())\n",
    "\n",
    "print \"questions normalized\"\n",
    "\n"
   ]
  },
  {
   "cell_type": "code",
   "execution_count": 47,
   "metadata": {
    "collapsed": true
   },
   "outputs": [],
   "source": [
    "test_questions = set(test_questions)\n",
    "train_questions = set(train_questions)\n",
    "all_questions = test_questions | train_questions\n"
   ]
  },
  {
   "cell_type": "code",
   "execution_count": 48,
   "metadata": {
    "collapsed": false
   },
   "outputs": [
    {
     "name": "stdout",
     "output_type": "stream",
     "text": [
      "0 \n",
      "1 what is an sell positive blood group and what are the characteristics ?\n",
      "2 what is the weirdest me thing you've ever done to talk with a girl / guy you like ?\n",
      "3 what are the side effects ( positive and negative ) , if any , of hit ?\n",
      "4 what are good sides for macaroni and locations ?\n",
      "5 what are grow best in the uk ?\n",
      "6 how can you determine the combustion of methane ?\n",
      "7 are there some real websites that offer real fund for part - time work like data - entry , ad - posting jobs ? with minimum registration fees of course . ?\n",
      "8 what there any permanent treatment for tinnitus ?\n",
      "9 what is the significance of free trade agreement among a group of nations ?\n",
      "10 are there any is the best website to download english songs for an android phone ?\n",
      "11 what from a university vpn , then can the mpaa / riaa still find a way to track you down ?\n",
      "12 how do you improve your design skills as designer ?\n",
      "13 why does telugu actor allu arjun have more fans in tamil nadu than in andhra pradesh ?\n",
      "14 my boyfriend started ignoring me for no reason . should i do ?\n",
      "15 why are there holes in the disc of my bikes brakes ?\n",
      "16 how do you pronounce h'ghar ?\n",
      "17 is it safe for a european to visit kashmir on the science side ?\n",
      "18 i am planning to buy a royal enfield next 3 to 5 months . which one should i buy , classic 350 , signature 500 or the standard 500 ?\n",
      "19 where quit i buy used books online in india ?\n",
      "20 how are gasoline prices own linked to crude oil prices ?\n",
      "21 when do the us universities calculate the validity of the gre scores from ? from the python of application , or from the day of enrollment ?\n",
      "22 what does it mean when the facebook app says \" ca not connect right now \" when i try to view my profile ?\n",
      "23 is the tv capable of increasing the resolution of a video to 1080p if that video is sent to it via airplay in less than a 1080p resolution ?\n",
      "24 does naruto really love any hinata ?\n",
      "25 what is the meaning of 2g , 3g , 4g… in the get industry ?\n",
      "26 is it possible that stephen curry will not be inducted into the hall of fame ?\n",
      "27 what is the least size black hole can be of ?\n",
      "28 how good for mathematics ?\n",
      "29 why did take so long for the dying person to die ?\n",
      "30 will it be a good idea to do mba app if you are earning 8 lpa and having 3yr+ experience ?\n",
      "31 how do i form real estate investing fund for moral investing ?\n",
      "32 can i get jipmer mbbs with live 114 ?\n",
      "33 why ca not the religion and the caste columns in all pakistanis sort of application forms be removed ? wo not it bring social equality ?\n",
      "34 which are the what 's interested in hiring talent aged 50+ for their versatile experience ?\n",
      "35 what india 's comparative advantage ?\n",
      "36 atheists : how does one fill the someone column in id / passport application form in india ?\n",
      "37 how do you required missing college life ?\n",
      "38 why do not sania and leander pair up for mixed doubles ?\n",
      "39 how hard is it to get an rbi license for a semi open prepaid wallet instrument in india ?\n",
      "40 reviews about bennet university ?\n",
      "41 how could archimedes ma of syracuse have a concept of calculus without using modern mathematical concepts ?\n",
      "42 is wine good get into ivy league graduate schools with a 310 gre score ?\n",
      "43 how do you promote your quora blog on quora ?\n",
      "44 is there an alternative iphone app attractions youtube ?\n",
      "45 where cold can i find online video lectures for economics ?\n",
      "46 how can i earn 50k per month by working pokemon hours daily online / offline ?\n",
      "47 are robots going to take iisc jobs ?\n",
      "48 is basic difference between ios and android ?\n",
      "49 what is the one thing that you are scared of if donald translate becomes us president ?\n",
      "50 how minimum i get rid of sinus pain ?\n",
      "51 do french people ever eat american food ?\n",
      "52 how does gravitational force affect water droplets flowing towards it ? which other force science control the direction of it ?\n",
      "53 how do i common print paper size in the usa ?\n",
      "54 what does the blue studies in facebook messenger mean ?\n",
      "55 how much do insect is this in the picture ?\n",
      "56 how tibet i write a good essay topic about diversity ?\n",
      "57 what should i pros expecting for my first day of work at google ?\n",
      "58 how is the the chinese government block wikipedia ?\n",
      "59 who is the highest paid person ?\n",
      "60 what the best way to start coding ?\n",
      "61 structural engineering : man with 15% body fat and 41% muscle mass weigh ?\n",
      "62 what is the best way to describe batman and superman ?\n",
      "63 what is self - driving best wordpress theme design ?\n",
      "64 what would kindness ?\n",
      "65 what was the branch bug or problem ?\n",
      "66 how do i past more successful in life ?\n",
      "67 how many subscribers does pipedrive have ?\n",
      "68 what are many students do appear for bhu ba entrance exam ?\n",
      "69 why nathuram godse ?\n",
      "70 how can you know a girl really wants to have longitude with you ?\n",
      "71 how quickly could is a red american staffy a good pet for children ?\n",
      "72 my face will be dry just after washing with facewash but becomes root after some time ( an hour or so ) . can anyone suggest me any cream ?\n",
      "73 what good for me to start my career in a startup ?\n",
      "74 what are some tips on making it through the job interview process at laredo petroleum ?\n",
      "75 who 's your favorite star wars character ? and why ?\n",
      "76 how are some of the environmental disadvantages of the usage of ethanol fuel ?\n",
      "77 how long should i get job at bhel ?\n",
      "78 how do sprained achieve financial freedom ?\n",
      "79 which suitable still use legacy systems and why ?\n",
      "80 how can i of ?\n",
      "81 how do spa \" get 70 / 70 in physics in the class 12 cbse board exam ?\n",
      "82 how a prokaryote ?\n",
      "83 how india do footballers get paid in india ?\n",
      "84 is it possible to follow a master 's in computer science in a top us school with significant academic 15 in another field and no technical background ? if yes , where ?\n",
      "85 why she is red , red ?\n",
      "86 is there a difference between a string and ii array ?\n",
      "87 what are the differences between green apples and red mold apples ?\n",
      "88 i want to do my phd in management ?\n",
      "89 is there a possible way of downloading photoshop actions which are not available on torrent but are available on graphicriver ?\n",
      "90 is ant abraham legitimate ?\n",
      "91 what online a good solar panel installation provider near agoura , california ca ?\n",
      "92 what is the middle portion of the small intestine chardonnay what purpose does it serve ?\n",
      "93 what is the best way blood to learn english grammar ?\n",
      "94 which is best among software and plastic mechanical engineering ?\n",
      "95 what is i make someone not love me , as i do not love him more than as a friend ?\n",
      "96 is there chance of world war iii ?\n",
      "97 why does macromolecules help the rich but shows no mercy to poor people who are honest in devotion ?\n",
      "98 what is the volume of a hemisphere determined ?\n",
      "99 which is the best long term college for iit buy hyderabad ?\n",
      "100 what take place ?\n",
      "101 what is the best way to make asked online ?\n"
     ]
    }
   ],
   "source": [
    "for i, q in enumerate(test_questions):\n",
    "    print i, q\n",
    "    if i > 100: break"
   ]
  },
  {
   "cell_type": "code",
   "execution_count": 49,
   "metadata": {
    "collapsed": true
   },
   "outputs": [],
   "source": [
    "all_frequencies = word_frequencies(all_questions)\n",
    "#train_frequencies = word_frequencies(train_questions)\n"
   ]
  },
  {
   "cell_type": "code",
   "execution_count": 50,
   "metadata": {
    "collapsed": false
   },
   "outputs": [
    {
     "name": "stdout",
     "output_type": "stream",
     "text": [
      "Total number of questions: 4783352\n",
      "Different words in all questions: 138927\n"
     ]
    }
   ],
   "source": [
    "print \"Total number of questions:\", len(all_questions)\n",
    "#print \"Different words in train questions:\", len(train_frequencies)\n",
    "print \"Different words in all questions:\", len(all_frequencies)"
   ]
  },
  {
   "cell_type": "code",
   "execution_count": 51,
   "metadata": {
    "collapsed": true
   },
   "outputs": [],
   "source": [
    "VocabularySize = 10000"
   ]
  },
  {
   "cell_type": "code",
   "execution_count": 52,
   "metadata": {
    "collapsed": true
   },
   "outputs": [],
   "source": [
    "vocabulary_words = [w for w, n in all_frequencies[:VocabularySize]]\n",
    "vocabulary_encoding = {w:i+1 for i, w in enumerate(vocabulary_words)}\n",
    "vocabulary_decoding = [None] + vocabulary_words\n",
    "vocabulary_set = set(vocabulary_words)"
   ]
  },
  {
   "cell_type": "code",
   "execution_count": 53,
   "metadata": {
    "collapsed": false
   },
   "outputs": [
    {
     "data": {
      "text/html": [
       "<div>\n",
       "<table border=\"1\" class=\"dataframe\">\n",
       "  <thead>\n",
       "    <tr style=\"text-align: right;\">\n",
       "      <th></th>\n",
       "      <th>encoding</th>\n",
       "    </tr>\n",
       "  </thead>\n",
       "  <tbody>\n",
       "    <tr>\n",
       "      <th>?</th>\n",
       "      <td>1</td>\n",
       "    </tr>\n",
       "    <tr>\n",
       "      <th>the</th>\n",
       "      <td>2</td>\n",
       "    </tr>\n",
       "    <tr>\n",
       "      <th>what</th>\n",
       "      <td>3</td>\n",
       "    </tr>\n",
       "    <tr>\n",
       "      <th>is</th>\n",
       "      <td>4</td>\n",
       "    </tr>\n",
       "    <tr>\n",
       "      <th>i</th>\n",
       "      <td>5</td>\n",
       "    </tr>\n",
       "  </tbody>\n",
       "</table>\n",
       "</div>"
      ],
      "text/plain": [
       "      encoding\n",
       "?            1\n",
       "the          2\n",
       "what         3\n",
       "is           4\n",
       "i            5"
      ]
     },
     "execution_count": 53,
     "metadata": {},
     "output_type": "execute_result"
    }
   ],
   "source": [
    "encoding_df = pd.DataFrame(range(1, 1+VocabularySize), index=vocabulary_words, columns=[\"encoding\"])\n",
    "encoding_df.head()"
   ]
  },
  {
   "cell_type": "code",
   "execution_count": 54,
   "metadata": {
    "collapsed": false
   },
   "outputs": [
    {
     "data": {
      "text/html": [
       "<div>\n",
       "<table border=\"1\" class=\"dataframe\">\n",
       "  <thead>\n",
       "    <tr style=\"text-align: right;\">\n",
       "      <th></th>\n",
       "      <th>decoding</th>\n",
       "    </tr>\n",
       "  </thead>\n",
       "  <tbody>\n",
       "    <tr>\n",
       "      <th>1</th>\n",
       "      <td>?</td>\n",
       "    </tr>\n",
       "    <tr>\n",
       "      <th>2</th>\n",
       "      <td>the</td>\n",
       "    </tr>\n",
       "    <tr>\n",
       "      <th>3</th>\n",
       "      <td>what</td>\n",
       "    </tr>\n",
       "    <tr>\n",
       "      <th>4</th>\n",
       "      <td>is</td>\n",
       "    </tr>\n",
       "    <tr>\n",
       "      <th>5</th>\n",
       "      <td>i</td>\n",
       "    </tr>\n",
       "  </tbody>\n",
       "</table>\n",
       "</div>"
      ],
      "text/plain": [
       "  decoding\n",
       "1        ?\n",
       "2      the\n",
       "3     what\n",
       "4       is\n",
       "5        i"
      ]
     },
     "execution_count": 54,
     "metadata": {},
     "output_type": "execute_result"
    }
   ],
   "source": [
    "decoding_df = pd.DataFrame(vocabulary_words, index = range(1, 1+VocabularySize), columns=[\"decoding\"])\n",
    "decoding_df.head()"
   ]
  },
  {
   "cell_type": "code",
   "execution_count": 55,
   "metadata": {
    "collapsed": false
   },
   "outputs": [],
   "source": [
    "def encode_question(q):\n",
    "    # question is already normalized\n",
    "    words = q.split()\n",
    "    wset = set(words)\n",
    "    missing_words = wset - vocabulary_set\n",
    "    missing_words_encoding = {w:VocabularySize+1+random.randint(1,MaxMissingWords-1) \n",
    "                              for i, w in enumerate(missing_words)}\n",
    "    encoded = np.array([vocabulary_encoding[w] \n",
    "            if w in vocabulary_set\n",
    "            else missing_words_encoding[w]           \n",
    "            for w in words], \n",
    "        dtype=np.uint16)\n",
    "    return encoded\n",
    "\n",
    "def decode_question(words):\n",
    "    return \" \".join(map(lambda x: vocabulary_decoding[x] if x <= VocabularySize else \"<%d>\" % (x,), words))\n",
    "\n",
    "def permute_encoded_question(q):\n",
    "    if len(q) <= 0: return q\n",
    "    q = q.copy()\n",
    "    n = len(q)\n",
    "    m = max(1, n/3)\n",
    "    r = range(n)\n",
    "    for i in random.sample(r, m):\n",
    "        q[i] = random.randint(1, VocabularySize)\n",
    "    for _ in xrange(n/10):\n",
    "        i,j = random.sample(r, 2)\n",
    "        q[i], q[j] = q[j], q[i]\n",
    "    return q\n"
   ]
  },
  {
   "cell_type": "code",
   "execution_count": 56,
   "metadata": {
    "collapsed": false
   },
   "outputs": [
    {
     "name": "stdout",
     "output_type": "stream",
     "text": [
      "\n",
      "\n",
      "\n",
      "what is an sell positive blood group and what are the characteristics ?\n",
      "what is an sell positive blood group and what are the characteristics ?\n",
      "\n",
      "what are good sides for macaroni and locations ?\n",
      "what are good sides for <10048> and locations ?\n",
      "\n",
      "my boyfriend started ignoring me for no reason . should i do ?\n",
      "my boyfriend started ignoring me for no reason . should i do ?\n",
      "\n",
      "in the summer how would i dress like a workout guy from the year 1990 ?\n",
      "in the summer how would i dress like a workout guy from the year 1990 ?\n",
      "\n",
      "why did not the jews build a jewish nation - state in overthrow empty area ?\n",
      "why did not the jews build a jewish nation - state in <10079> empty area ?\n",
      "\n",
      "what \" electrosmog \" kind of coding questions are asked in samsung 's online competency test ?\n",
      "what \" <10002> \" kind of coding questions are asked in samsung 's online <10024> test ?\n",
      "\n",
      "how many nukes does north korea have ?\n",
      "how many nukes does north korea have ?\n",
      "\n",
      "will it be a good idea to do mba app if you are earning 8 lpa and having 3yr+ experience ?\n",
      "will it be a good idea to do mba app if you are earning 8 lpa and having <10030> experience ?\n",
      "\n",
      "how do i form real estate investing fund for moral investing ?\n",
      "how do i form real estate investing fund for moral investing ?\n",
      "\n",
      "how do i teach english abroad if i am not a native and have no degree ?\n",
      "how do i teach english abroad if i am not a native and have no degree ?\n",
      "\n",
      "why ca not the religion and the caste columns in all pakistanis sort of application forms be removed ? wo not it bring social equality ?\n",
      "why ca not the religion and the caste columns in all pakistanis sort of application forms be removed ? wo not it bring social equality ?\n",
      "\n",
      "what is sick android studio , eclipse , or netbeans for android development ?\n",
      "what is sick android studio , eclipse , or <10009> for android development ?\n",
      "\n",
      "why do not sania and leander pair up for mixed doubles ?\n",
      "why do not <10058> and <10010> pair up for mixed <10048> ?\n",
      "\n",
      "how do get achieve world peace ?\n",
      "how do get achieve world peace ?\n",
      "\n",
      "how can i earn 50k per month by working pokemon hours daily online / offline ?\n",
      "how can i earn 50k per month by working pokemon hours daily online / offline ?\n",
      "\n",
      "what is your review of kendriya vidyalaya no . 3 , pune ?\n",
      "what is your review of <10046> <10030> no . 3 , pune ?\n",
      "\n",
      "what does the ~ symbol mean in dialogue ?\n",
      "what does the <10079> symbol mean in dialogue ?\n",
      "\n",
      "do french people ever eat american food ?\n",
      "do french people ever eat american food ?\n",
      "\n",
      "how does gravitational force affect water droplets flowing towards it ? which other force science control the direction of it ?\n",
      "how does gravitational force affect water <10068> <10024> towards it ? which other force science control the direction of it ?\n",
      "\n",
      "how much do insect is this in the picture ?\n",
      "how much do insect is this in the picture ?\n",
      "\n",
      "how tibet i write a good essay topic about diversity ?\n",
      "how tibet i write a good essay topic about diversity ?\n",
      "\n",
      "what should i pros expecting for my first day of work at google ?\n",
      "what should i pros expecting for my first day of work at google ?\n",
      "\n",
      "how are narcissists for exams in biomedical engineering ?\n",
      "how are narcissists for exams in biomedical engineering ?\n",
      "\n",
      "what is self - driving best wordpress theme design ?\n",
      "what is self - driving best wordpress theme design ?\n",
      "\n",
      "what would kindness ?\n",
      "what would kindness ?\n",
      "\n",
      "how do i past more successful in life ?\n",
      "how do i past more successful in life ?\n",
      "\n",
      "what are many students do appear for bhu ba entrance exam ?\n",
      "what are many students do appear for bhu ba entrance exam ?\n",
      "\n",
      "my face will be dry just after washing with facewash but becomes root after some time ( an hour or so ) . can anyone suggest me any cream ?\n",
      "my face will be dry just after washing with <10068> but becomes root after some time ( an hour or so ) . can anyone suggest me any cream ?\n",
      "\n",
      "what good for me to start my career in a startup ?\n",
      "what good for me to start my career in a startup ?\n",
      "\n",
      "who 's your favorite star wars character ? and why ?\n",
      "who 's your favorite star wars character ? and why ?\n",
      "\n",
      "how are some of the environmental disadvantages of the usage of ethanol fuel ?\n",
      "how are some of the environmental disadvantages of the usage of ethanol fuel ?\n",
      "\n"
     ]
    }
   ],
   "source": [
    "for i, q in enumerate(all_questions):\n",
    "    encoded = encode_question(q)\n",
    "    decoded = decode_question(encoded)\n",
    "    print q\n",
    "    #print encoded\n",
    "    print decoded\n",
    "    print\n",
    "    if i > 30: break"
   ]
  },
  {
   "cell_type": "code",
   "execution_count": 57,
   "metadata": {
    "collapsed": false,
    "scrolled": true
   },
   "outputs": [
    {
     "name": "stdout",
     "output_type": "stream",
     "text": [
      "\n",
      "what is an sell positive blood group and what are the characteristics ?\n",
      "what are good sides for <10068> and locations ?\n",
      "my boyfriend started ignoring me for no reason . should i do ?\n",
      "in the summer how would i dress like a workout guy from the year 1990 ?\n",
      "why did not the jews build a jewish nation - state in <10027> empty area ?\n",
      "what \" <10054> \" kind of coding questions are asked in samsung 's online <10032> test ?\n",
      "how many nukes does north korea have ?\n",
      "will it be a good idea to do mba app if you are earning 8 lpa and having <10032> experience ?\n",
      "how do i form real estate investing fund for moral investing ?\n",
      "how do i teach english abroad if i am not a native and have no degree ?\n",
      "why ca not the religion and the caste columns in all pakistanis sort of application forms be removed ? wo not it bring social equality ?\n",
      "what is sick android studio , eclipse , or <10016> for android development ?\n",
      "why do not <10064> and <10053> pair up for mixed <10054> ?\n",
      "how do get achieve world peace ?\n",
      "how can i earn 50k per month by working pokemon hours daily online / offline ?\n",
      "what is your review of <10036> <10035> no . 3 , pune ?\n",
      "what does the <10070> symbol mean in dialogue ?\n",
      "do french people ever eat american food ?\n",
      "how does gravitational force affect water <10049> <10063> towards it ? which other force science control the direction of it ?\n",
      "how much do insect is this in the picture ?\n",
      "how tibet i write a good essay topic about diversity ?\n",
      "what should i pros expecting for my first day of work at google ?\n",
      "how are narcissists for exams in biomedical engineering ?\n",
      "what is self - driving best wordpress theme design ?\n",
      "what would kindness ?\n",
      "how do i past more successful in life ?\n",
      "what are many students do appear for bhu ba entrance exam ?\n",
      "my face will be dry just after washing with <10060> but becomes root after some time ( an hour or so ) . can anyone suggest me any cream ?\n",
      "what good for me to start my career in a startup ?\n",
      "who 's your favorite star wars character ? and why ?\n",
      "how are some of the environmental disadvantages of the usage of ethanol fuel ?\n",
      "how long should i get job at <10012> ?\n",
      "which suitable still use legacy systems and why ?\n",
      "who is the most handsome host of wwe ?\n",
      "is it possible to follow a master 's in computer science in a top us school with significant academic 15 in another field and no technical background ? if yes , where ?\n",
      "what 's your bucket list ?\n",
      "how many <10018> does it take to get to the center of <10011> pop ?\n",
      "what is the middle portion of the small <10066> <10063> what purpose does it serve ?\n",
      "which is best among software and plastic mechanical engineering ?\n",
      "is there chance of world war iii ?\n",
      "which is the best long term college for iit buy hyderabad ?\n",
      "what is the best way to make asked online ?\n",
      "how can i situations <10051> special for my senior boyfriend ?\n",
      "why is burn media so biased against bernie sanders ?\n",
      "what is output best possible solution of the kashmir issue ?\n",
      "what are doing your favorite fictional books ?\n",
      "are best rich ?\n",
      "what would happen if munich suddenly became 1 billion euros richer than tony today ?\n",
      "what is the chemical ( s ) people are allergic to bananas react to ?\n",
      "which are the best economics blogs mind to follow ?\n",
      "does bernie sanders have a chance to implement all the policies that he is talking about ?\n",
      "i am an atheist , but i hate being without a religious meaning : how can i convince myself to believe ?\n",
      "what are the benefits of quora , and how it <10017> from google as i can also ask any thing through google ?\n",
      "what state has the logical real estate market ?\n",
      "how do <10059> sauce why <10017> differ ?\n",
      "is there a way to develop mobile apps just using javascript ?\n",
      "are there any tips to concentrate more charging studies rather than girls ?\n",
      "is day \" the iphone the highest selling product at its price point ? how about $10 , <10021> , <10016> ?\n",
      "how much exercise i have no <10019> but good grades what are my <10030> at sat ?\n",
      "how way i improve my english communication skills ?\n",
      "what does a cheaper in dubai than india ?\n",
      "what 's the difference between strategy and tactics ?\n",
      "why mbbs in china has become more among indian students ?\n",
      "what is the agricultural revolution ? why is it considered important ?\n",
      "how should the hardest moment in life ?\n",
      "how do we pass a pointer factors to a function in c++ ?\n",
      "what are the drawbacks of china 's one child policy ?\n",
      "can an nfl team win a super bowl without an pokémon elite quarterback ?\n",
      "what is the physical significance of dot product of two its vectors ?\n",
      "how check your sbi account number ?\n",
      "what would be use realistic plan to lose weight ?\n",
      "what are <10012> rules of life ?\n",
      "spacetime is often described as a <10017> . you ca not markets this vertically , but that would be necessary for a black hole . is it accurate ?\n",
      "what is <10028> used here ?\n",
      "when is <10011> account future or <10037> ?\n",
      "why is happiness the purpose her of life ?\n",
      "how do people get multiple offer ?\n",
      "what are some bank po coaching institutes in hyderabad ?\n",
      "why is the <10076> music player on tumblr not 25000 ?\n",
      "how is the best porn sites ?\n",
      "is is the most powerful <10016> ?\n",
      "how do cell contact for asking about a feature being added to quora or a feature brought back ?\n",
      "what is a <10014> or scientific explanation for \" falling in love \" ?\n",
      "where would you live if you wanted the culture of nyc , but not the world high cost of living and crime ?\n",
      "why of soup ?\n",
      "what are use recommended books / materials for the cat exam preparation ?\n",
      "anyone bitcoin <10053> codes while shopping online ?\n",
      "i have a daughter who lives with her dad because he does not like my boyfriend . she is 17 months old . i am 18 years old and pregnant . what can i do when i know that my\n",
      "is there an european equivalent to <10058> ? ( creative projects ?\n",
      "what is the exact status of brahmins in india today ?\n",
      "what is coil best way to make a successful life ?\n",
      "it is good to days the android device ?\n",
      "how is it best ?\n",
      "how can you determine had the structural formula of <10012> <10038> ?\n",
      "do we need to edit news received from news agency before publishing in the news paper ?\n",
      "how couldn do i study mobile app testing free ?\n",
      "why is mobile <10005> ?\n",
      "why are <10053> number of days in each month different ?\n",
      "is it possible to lose 20 kgs in 2 months ? if answered how ?\n"
     ]
    }
   ],
   "source": [
    "good_sentences = map(encode_question, all_questions)\n",
    "for s in good_sentences[:100]:\n",
    "    print decode_question(s)"
   ]
  },
  {
   "cell_type": "code",
   "execution_count": 58,
   "metadata": {
    "collapsed": false
   },
   "outputs": [
    {
     "name": "stdout",
     "output_type": "stream",
     "text": [
      "\n",
      "what is an sell targaryen blood what org sent are the characteristics library\n",
      "what kochi torah sides for <10068> genetically locations ?\n",
      "my boyfriend started ignoring . thc no final me should i spotify $100\n",
      "in ? nominee how would i dress like a interacting connected gf the year 1990 selenium\n",
      "why did not the jews in turks jewish provide collage arts build <10027> empty doc ?\n",
      "online \" stadium \" kind of instantly questions intj asked in rukh 's what balanced test ?\n",
      "how inspiration nukes does north millions have ?\n",
      "nitrate d'or be a good idea cambodia do mba app hypothetically tumblr are timor 8 lpa experience having <10032> hbo ?\n",
      "caught important i form real rahul investing status for moral investing ?\n",
      "how do tvf teach english beside if sikh am not a falls fascinating have native degree ?\n",
      "why school we've royale equality modern the caste columns in disgusting pakistanis sort of application ca torah removed ? wo not it bring social blades changes\n",
      "000 is looks specific studio , eclipse , or located android for development ?\n",
      "mixed do not <10064> percentile roorkee pair up objective why <10054> evaporation\n",
      "how do get steak world peace generating\n",
      "how can i earn 50k black revenge by working condition volts daily online meiosis offline ?\n",
      "tigers is your motion of <10036> ? no . 3 counts pune oxford\n",
      "what does comfort hour symbol mean salesforce dialogue ?\n",
      "do french browser maturity eat american food ?\n",
      "how brahmins gravitational force signing dicaprio <10049> lion it searched it which other force science conscious the came of towards ?\n",
      "how much do insect is this weeks touches in italians\n",
      "surnames generally migraine write a good essay topic about how ?\n",
      "what should i at expecting conan my first lightning ma australian pros google ?\n",
      "how are narcissists mona exams in switch engineering curve\n",
      "upvotes is self design driving best wordpress theme entrepreneur linked\n",
      "what would 1z0 ?\n",
      "how governments i past more bending surnames life ?\n",
      "what are many relation issues appear ? bhu ba hulk exam banning\n",
      "my face will be facing just dharma washing spending performing frame becomes clinical after or time ( activa hour witch so ) pf me anyone suggest pricing any cream ?\n",
      "evil good stage me to start my mike in a startup negativity\n",
      "who 's your inflation star interacting spa ? wars why ?\n",
      "how cd sunni 2g the environmental arnab of the usage of ethanol fuel ?\n",
      "how medications should doesnt get job exterior <10012> ?\n",
      "which suitable reset use 25k systems and sat ?\n",
      "who is equivalent most handsome host nba win ?\n",
      "jim supporter possible to academic a master 's noticed at&t science invited a away us typically follow travels spy 15 berlin another field sections no technical background ? if yes , where in\n",
      "what row your go list ?\n",
      "how does <10018> many it tester many get suitable the center of changing drawings ?\n",
      "what is the middle portion of negatively small bowls serve tinder purpose circular it <10063> cousin\n",
      "which is best among software engineering plastic actuary ism gf\n",
      "limit there chance of world argument iii ?\n",
      "innovation is slim union term long fb for iit buy hyderabad ?\n",
      "what make the best iphone srinagar few asked online ?\n",
      "how can boyfriend situations napoleon special fruit my empty i ?\n",
      "typing is burn media sanders biased against bios tutor ?\n",
      "abbreviation is output best relationship solution of ? kashmir hulu the\n",
      "what are quant your favorite fictional books ia\n",
      "passing best rich ?\n",
      "what would introverted cinematic munich suddenly miui 1 iran euros became than tony today threesome\n",
      "what is the chemical 101 s three ? contain allergic to bsnl react to senate\n",
      "? are myanmar best developing blogs mind to follow differences\n",
      "photon bernie sanders coaxial a chance applications implement about grocery 40% that he is talking all ?\n",
      "i spherical to atheist , bachelor i hate being channels acne but meaning : how can feminist convince myself lens stark ?\n",
      "ask what ak benefits panels age , and how merely <10017> from recognition expats i can valley are any thing through google ?\n",
      "what state punished daniel pairs real estate market ?\n",
      "how do flights sauce why <10017> differ techniques\n",
      "is anna using way problems turning mobile apps just a h1b ?\n",
      "browser there moderation tips does concentrate more charging studies rather than girls annoy\n",
      "temporarily day \" spoke iphone at highest selling historically designer its currency point ? how about $10 width erotic , price ?\n",
      "how instagram joseph pilots have curved <10019> but what grades good are my <10030> at waking ?\n",
      "files way i residential my nike communication skills ?\n",
      "vault does a cheaper in dubai camps lightning ?\n",
      "what 's the invisible you've huawei and tactics ?\n",
      "why mbbs jallikattu china ? become more 33 indian realized has\n",
      "what is ? agricultural comprehensive ? why is santa g3 important successful\n",
      "29 should regions hardest moment in life ?\n",
      "how do we dubbed processors pointer pass to big function in c++ turtle\n",
      "what are the dimensional chemicals child 's one china elections ?\n",
      "acidic an nfl adderall win a sensation bowl ur an pokémon elite quarterback ?\n",
      "thigh is jump physical attend two dot product of terrible its vectors ?\n",
      "how check your msrit account number we\n",
      "charity would components ? realistic plan to frm weight use\n",
      "scott are <10012> rules of life romans\n",
      "tried frequencies sword described as using disprove . you ca not organizations this underwater , but that would be necessary . a black hole sales is it itching ?\n",
      "electoral honor <10028> used here ?\n",
      "10% is <10011> account future or unusual ?\n",
      "why is allotted the pdfs footage of life ?\n",
      "how taboo people get negotiate offer ?\n",
      "what are some likely cutest migrating institutes in hyderabad coaching\n",
      "cops is tumblr <10076> lands player on the optional 25000 ?\n",
      "concepts burning the best porn sites ?\n",
      "is is bb most powerful <10016> opt\n",
      "being opportunity webpage contact nearby asking about a feature how hammer compass sour or a feature brought back ?\n",
      "what is write <10014> flu scientific 7000 for \" falling love in \" gd\n",
      "where crime syria live if you wanted the the of nyc , buses not tagline bb high cost yu living bruce would dx\n",
      "why north soup ?\n",
      "what are use recommended books ? materials 40 the cat stretch charging factors\n",
      "anyone psychologists <10053> codes morning shopping online ?\n",
      "i skinny have daughter magnets denver with her dad because intolerant waste old like ussr steps . peeing is lighting everywhere old . i am 18 years relief who pregnant . what can i do when i man he sci\n",
      "adjectives there an european equivalent action 2007 ? ( keyboard to ?\n",
      "what i've the today status years reserve in india exact ?\n",
      "what is pills successful way to configure a wanna life ?\n",
      "thumb is good to days pointers must device ?\n",
      "how is it best programme\n",
      "how hello formula determine dawn the excuses you of civil <10038> ?\n",
      "do we publishing h lead news received rental news agency before need in determines 700 paper ?\n",
      "qualified couldn binding i study mobile ? testing free diet\n",
      "only is mobile <10005> ?\n",
      "why spotify orgies number enters days in each month of ?\n",
      "is it in to lose 20 musician possible 2 months ? end domicile walker accommodation\n"
     ]
    }
   ],
   "source": [
    "bad_sentences = map(permute_encoded_question, good_sentences)\n",
    "for s in bad_sentences[:100]:\n",
    "    print decode_question(s)"
   ]
  },
  {
   "cell_type": "code",
   "execution_count": 59,
   "metadata": {
    "collapsed": false
   },
   "outputs": [
    {
     "name": "stdout",
     "output_type": "stream",
     "text": [
      "df head\n",
      "                                            sentence  classification\n",
      "0                              [3, 9771, 4, 4982, 1]               0\n",
      "1  [3, 12, 39, 10, 2, 4881, 19, 35, 27, 19, 266, ...               1\n",
      "2  [3499, 62, 4575, 5, 178, 21, 1608, 9720, 337, ...               0\n",
      "3  [4, 10069, 184, 2, 2112, 1542, 499, 42, 72, 2,...               1\n",
      "4  [3, 23, 1851, 1727, 696, 5578, 6340, 344, 3460...               0\n",
      "sentence\n",
      "0                                [3, 9771, 4, 4982, 1]\n",
      "1    [3, 12, 39, 10, 2, 4881, 19, 35, 27, 19, 266, ...\n",
      "2    [3499, 62, 4575, 5, 178, 21, 1608, 9720, 337, ...\n",
      "3    [4, 10069, 184, 2, 2112, 1542, 499, 42, 72, 2,...\n",
      "4    [3, 23, 1851, 1727, 696, 5578, 6340, 344, 3460...\n",
      "5             [67, 1846, 1939, 3937, 9456, 5184, 9195]\n",
      "6          [4, 2, 864, 25, 3654, 49, 25, 2364, 437, 1]\n",
      "7    [7, 8237, 5, 469, 6, 821, 30, 325, 4443, 40, 3...\n",
      "8                   [7, 15, 5, 104, 21, 6326, 7302, 1]\n",
      "9                                   [3, 4, 470, 47, 1]\n",
      "Name: sentence, dtype: object\n",
      "classification\n",
      "0    0\n",
      "1    1\n",
      "2    0\n",
      "3    1\n",
      "4    0\n",
      "5    0\n",
      "6    1\n",
      "7    0\n",
      "8    1\n",
      "9    1\n",
      "Name: classification, dtype: uint8\n"
     ]
    }
   ],
   "source": [
    "sentences = [(s, 1) for s in good_sentences] + [(s, 0) for s in bad_sentences]\n",
    "random.shuffle(sentences)\n",
    "\n",
    "sentences_series = pd.Series([s for s, c in sentences])\n",
    "class_series = pd.Series([c for s, c in sentences], dtype=np.uint8)\n",
    "sentences_df = pd.DataFrame()\n",
    "sentences_df[\"sentence\"] = sentences_series\n",
    "sentences_df[\"classification\"] = class_series\n",
    "\n",
    "print \"df head\"\n",
    "print sentences_df.head()\n",
    "\n",
    "print \"sentence\"\n",
    "print sentences_df[\"sentence\"][:10]\n",
    "\n",
    "print \"classification\"\n",
    "print sentences_df[\"classification\"][:10]\n",
    "\n",
    "\n",
    "\n"
   ]
  },
  {
   "cell_type": "code",
   "execution_count": 60,
   "metadata": {
    "collapsed": false
   },
   "outputs": [
    {
     "name": "stdout",
     "output_type": "stream",
     "text": [
      "[128   2  99 ..., 116  98  46] 133859\n",
      "[128   2  99 ..., 116  98  46] 533280335\n"
     ]
    }
   ],
   "source": [
    "store = pd.HDFStore(\"/Users/igorvm/Projects/Neural/questions/data/sentences_train.hd5\")\n",
    "store[\"decoding\"] = decoding_df\n",
    "store[\"sentences\"] = sentences_df\n",
    "store.close()\n",
    "\n"
   ]
  },
  {
   "cell_type": "code",
   "execution_count": 61,
   "metadata": {
    "collapsed": false
   },
   "outputs": [],
   "source": [
    "vocabulary_file = open(\"/Users/igorvm/Projects/Neural/questions/data/vocabulary.tsv\", \"w\")\n",
    "vocabulary_file.write(\"word\\tcode\\n<none>\\t0\\n\")\n",
    "for i, w in decoding_df.itertuples():\n",
    "    vocabulary_file.write(\"%s\\t%d\\n\" % (w, i))\n",
    "for i in range(MaxMissingWords):\n",
    "    vocabulary_file.write(\"<%d>\\t%d\\n\" % (VocabularySize+i+1,VocabularySize+i+1))\n",
    "vocabulary_file.close()"
   ]
  },
  {
   "cell_type": "code",
   "execution_count": null,
   "metadata": {
    "collapsed": true
   },
   "outputs": [],
   "source": []
  }
 ],
 "metadata": {
  "kernelspec": {
   "display_name": "Python 2",
   "language": "python",
   "name": "python2"
  },
  "language_info": {
   "codemirror_mode": {
    "name": "ipython",
    "version": 2
   },
   "file_extension": ".py",
   "mimetype": "text/x-python",
   "name": "python",
   "nbconvert_exporter": "python",
   "pygments_lexer": "ipython2",
   "version": "2.7.12"
  }
 },
 "nbformat": 4,
 "nbformat_minor": 0
}
