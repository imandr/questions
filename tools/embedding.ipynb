{
 "cells": [
  {
   "cell_type": "code",
   "execution_count": 4,
   "metadata": {
    "collapsed": true
   },
   "outputs": [],
   "source": [
    "import pandas as pd\n",
    "import numpy as np\n",
    "import matplotlib.pyplot as plt\n",
    "import matplotlib\n",
    "from collections import Counter\n",
    "import math\n",
    "\n",
    "%matplotlib inline"
   ]
  },
  {
   "cell_type": "code",
   "execution_count": 57,
   "metadata": {
    "collapsed": false
   },
   "outputs": [],
   "source": [
    "MaxQuestionLength = 40   # words\n",
    "\n",
    "def normalize_question(q):\n",
    "    q = q.lower()\n",
    "    q = q.replace(\"?\",\" ? \")\n",
    "    q = q.replace(\"...\",\" . \")\n",
    "    q = q.replace(\"..\",\" . \")\n",
    "    q = q.replace(\".\",\" . \")\n",
    "    q = q.replace(\":\",\" : \")\n",
    "    q = q.replace(\",\",\" , \")\n",
    "    q = q.replace(\"/\",\" / \")\n",
    "    q = q.replace(\"(\",\" ( \")\n",
    "    q = q.replace(\")\",\" ) \")\n",
    "    q = q.replace(\"n't\",\" not \")    \n",
    "    q = q.replace(\"i'm\", \"i am\")\n",
    "    q = q.replace(\"[math]\", \" [math] \")\n",
    "    q = q.replace(\"[/math]\", \" [/math] \")\n",
    "    q = q.replace(\"-\",\" - \")\n",
    "    q = q.replace('\"',' \" ')\n",
    "    q = q.replace('\\xe2\\x80\\x9c', ' \" ').replace('\\xe2\\x80\\x9d', ' \" ')    \n",
    "    q = q.replace(\"'s\", \" 's \")\n",
    "    words = q.lower().split()[:MaxQuestionLength]\n",
    "    #words = map(lambda x: x.strip(), words)\n",
    "    #words = filter(lambda x: len(x) > 0, words)\n",
    "    words = map(lambda w: w[:-1] + \" s\" if len(w)>3 and w[-1]=='s' and \n",
    "                not w in (\"this\", \"does\") else w, words)\n",
    "    return \" \".join(words)\n",
    "\n",
    "def word_frequencies(questions):\n",
    "    words = \" \".join(questions).split(\" \")\n",
    "    counter = Counter(words)\n",
    "    return sorted(counter.items(), key=lambda x:-x[1])\n",
    "\n",
    "def word_appearance_in_questions(questions):\n",
    "    # how many questions does the word appear in ?\n",
    "    c = Counter()\n",
    "    for q in questions:\n",
    "        c.update(set(q.split()))\n",
    "    return list(c.most_common())\n",
    "\n",
    "\n",
    "def cumulative_by_index(counts):\n",
    "    s = 0\n",
    "    cx, cy = [], []\n",
    "    for i, n in enumerate(counts):\n",
    "        s += n\n",
    "        cx.append(i+1)\n",
    "        cy.append(s)\n",
    "    x = np.array(cx, dtype=np.float32)\n",
    "    y = np.array(cy, dtype=np.float32)/s\n",
    "    return x, y\n",
    "\n",
    "def cumulative_by_value(n):\n",
    "    # assumes n is sorted ascending or descending\n",
    "    s = 0\n",
    "    cx, cy = [], []\n",
    "    last_n = None\n",
    "    for ni in n:\n",
    "        s += 1\n",
    "        if ni != last_n:\n",
    "            last_n = ni\n",
    "            cx.append(ni)\n",
    "            cy.append(s)\n",
    "        else:\n",
    "            cy[-1] = s\n",
    "    x = np.array(cx)\n",
    "    y = np.array(cy, dtype=np.float32)/s\n",
    "    return x, y\n",
    "\n",
    "\n",
    "def plot_cumulative(cx, cy, xlim=None):\n",
    "\n",
    "    ticks_major = np.arange(0.0, 1.1, 0.1)\n",
    "    ticks_minor = np.arange(0.0, 1.1, 0.05)\n",
    "\n",
    "    xticks = np.arange(0.0, 200.0, 10)\n",
    "\n",
    "    fig = plt.figure()                                                               \n",
    "    ax = fig.add_subplot(1,1,1)                                                      \n",
    "\n",
    "    ax.plot(cx, cy)\n",
    "    ax.set_xticks(xticks)                                                       \n",
    "    ax.set_yticks(ticks_major)                                                       \n",
    "    ax.set_yticks(ticks_minor, minor=True)                                                       \n",
    "    ax.grid(True, which=\"both\")\n",
    "    plt.xscale(\"log\")\n",
    "    if xlim is not None:\n",
    "        plt.xlim(xlim)\n",
    "    plt.show()"
   ]
  },
  {
   "cell_type": "code",
   "execution_count": 8,
   "metadata": {
    "collapsed": false
   },
   "outputs": [
    {
     "name": "stdout",
     "output_type": "stream",
     "text": [
      "Train set loaded: 404290\n",
      "Test set loaded: 2345796\n",
      "questions normalized\n"
     ]
    }
   ],
   "source": [
    "train_df=pd.read_csv(\"/Users/igorvm/Projects/Neural/questions/data/train.csv\")\n",
    "train_df.fillna(\"\", inplace=True)\n",
    "print \"Train set loaded:\", len(train_df)\n",
    "\n",
    "test_df = pd.read_csv(\"/Users/igorvm/Projects/Neural/questions/data/test.csv\")\n",
    "test_df.fillna(\"\", inplace=True)\n",
    "print \"Test set loaded:\", len(test_df)\n"
   ]
  },
  {
   "cell_type": "code",
   "execution_count": 58,
   "metadata": {
    "collapsed": false
   },
   "outputs": [
    {
     "name": "stdout",
     "output_type": "stream",
     "text": [
      "questions normalized\n",
      "train questions: 808580\n",
      "test questions: 4691592\n",
      "all questions: 4783352\n",
      "overlap: 716820\n",
      "longest question: 51\n"
     ]
    }
   ],
   "source": [
    "test_questions = map(normalize_question, test_df[\"question1\"].tolist() + test_df[\"question2\"].tolist())\n",
    "train_questions = map(normalize_question, train_df[\"question1\"].tolist() + train_df[\"question2\"].tolist())\n",
    "\n",
    "print \"questions normalized\"\n",
    "\n",
    "all_questions = set(test_questions) | set(train_questions)    # normalized already\n",
    "\n",
    "print \"train questions:\", len(train_questions)\n",
    "print \"test questions:\", len(test_questions)\n",
    "print \"all questions:\", len(all_questions)\n",
    "print \"overlap:\", len(train_questions) + len(test_questions) - len(all_questions)\n",
    "print \"longest question:\", np.max(map(lambda q: len(q.split()), all_questions))\n",
    "\n"
   ]
  },
  {
   "cell_type": "code",
   "execution_count": 51,
   "metadata": {
    "collapsed": true
   },
   "outputs": [],
   "source": [
    "nonmatch_pairs = [(q1.split(), q2.split()) for \n",
    "    i, q1, q2, dup in train_df[[\"question1\", \"question2\",\"is_duplicate\"]].itertuples()\n",
    "    if not dup]\n",
    "\n",
    "l = [min(len(q1), len(q2)) for q1, q2 in nonmatch_pairs]"
   ]
  },
  {
   "cell_type": "code",
   "execution_count": 52,
   "metadata": {
    "collapsed": false
   },
   "outputs": [
    {
     "name": "stdout",
     "output_type": "stream",
     "text": [
      "[  0.8   1.6   2.4   3.2   4.    4.8   5.6   6.4   7.2   8.    8.8   9.6\n",
      "  10.4  11.2  12.   12.8  13.6  14.4  15.2  16.   16.8  17.6  18.4  19.2\n",
      "  20.   20.8  21.6  22.4  23.2  24.   24.8  25.6  26.4  27.2  28.   28.8\n",
      "  29.6  30.4  31.2  32.   32.8  33.6  34.4  35.2  36.   36.8  37.6  38.4\n",
      "  39.2  40.   40.8  41.6  42.4  43.2  44.   44.8  45.6  46.4  47.2  48.\n",
      "  48.8  49.6  50.4  51.2  52.   52.8  53.6  54.4  55.2  56.   56.8  57.6\n",
      "  58.4  59.2  60.   60.8  61.6  62.4  63.2  64. ]\n",
      "[  2.00000000e+00   9.00000000e+01   8.50000000e+01   4.68600000e+03\n",
      "   0.00000000e+00   1.12650000e+04   1.75500000e+04   2.58480000e+04\n",
      "   3.22810000e+04   0.00000000e+00   3.37350000e+04   2.87040000e+04\n",
      "   2.40630000e+04   1.63030000e+04   0.00000000e+00   1.27240000e+04\n",
      "   9.29000000e+03   7.82600000e+03   6.50600000e+03   0.00000000e+00\n",
      "   4.97700000e+03   3.59900000e+03   2.89400000e+03   2.37000000e+03\n",
      "   0.00000000e+00   2.11800000e+03   1.51400000e+03   1.39000000e+03\n",
      "   1.08200000e+03   0.00000000e+00   9.51000000e+02   7.87000000e+02\n",
      "   7.10000000e+02   4.73000000e+02   0.00000000e+00   3.63000000e+02\n",
      "   2.63000000e+02   1.83000000e+02   1.02000000e+02   0.00000000e+00\n",
      "   7.40000000e+01   5.60000000e+01   2.90000000e+01   2.80000000e+01\n",
      "   0.00000000e+00   1.00000000e+01   1.30000000e+01   9.00000000e+00\n",
      "   8.00000000e+00   0.00000000e+00   1.10000000e+01   7.00000000e+00\n",
      "   7.00000000e+00   7.00000000e+00   0.00000000e+00   2.00000000e+00\n",
      "   3.00000000e+00   6.00000000e+00   0.00000000e+00   0.00000000e+00\n",
      "   7.00000000e+00   1.00000000e+00   4.00000000e+00   2.00000000e+00\n",
      "   0.00000000e+00   3.00000000e+00   1.00000000e+00   1.00000000e+00\n",
      "   0.00000000e+00   0.00000000e+00   0.00000000e+00   1.00000000e+00\n",
      "   1.00000000e+00   0.00000000e+00   0.00000000e+00   0.00000000e+00\n",
      "   0.00000000e+00   0.00000000e+00   1.00000000e+00   1.00000000e+00]\n"
     ]
    },
    {
     "data": {
      "image/png": "[encoded data removed]",
      "text/plain": [
       "<matplotlib.figure.Figure at 0x14fca2a50>"
      ]
     },
     "metadata": {},
     "output_type": "display_data"
    },
    {
     "data": {
      "image/png": "[encoded data removed]",
      "text/plain": [
       "<matplotlib.figure.Figure at 0x14fca2ad0>"
      ]
     },
     "metadata": {},
     "output_type": "display_data"
    }
   ],
   "source": [
    "hist_y, hist_x, _ = plt.hist(l, bins=80)\n",
    "hist_x = hist_x[1:]\n",
    "print hist_x\n",
    "print hist_y\n",
    "\n",
    "cumulative = [np.sum(hist_y[:i+1]) for i in range(len(hist_y))]\n",
    "\n",
    "plt.yscale(\"log\")\n",
    "\n",
    "plt.show()\n",
    "\n",
    "fig = plt.figure()                                                               \n",
    "ax = fig.add_subplot(1,1,1)                                                      \n",
    "ax.plot(hist_x, cumulative)\n",
    "ax.grid(True, which=\"both\")\n",
    "plt.show()\n"
   ]
  },
  {
   "cell_type": "code",
   "execution_count": 59,
   "metadata": {
    "collapsed": false
   },
   "outputs": [],
   "source": [
    "#train_frequencies = word_frequencies(train_questions)\n",
    "#test_frequencies = word_frequencies(test_questions)\n",
    "all_frequencies = word_appearance_in_questions(all_questions)"
   ]
  },
  {
   "cell_type": "code",
   "execution_count": 61,
   "metadata": {
    "collapsed": false
   },
   "outputs": [
    {
     "name": "stdout",
     "output_type": "stream",
     "text": [
      "words in all questions: 127460\n"
     ]
    },
    {
     "data": {
      "image/png": "[encoded data removed]",
      "text/plain": [
       "<matplotlib.figure.Figure at 0x1173c9450>"
      ]
     },
     "metadata": {},
     "output_type": "display_data"
    },
    {
     "data": {
      "image/png": "[encoded data removed]",
      "text/plain": [
       "<matplotlib.figure.Figure at 0x1960d1250>"
      ]
     },
     "metadata": {},
     "output_type": "display_data"
    }
   ],
   "source": [
    "print \"words in all questions:\", len(all_frequencies)\n",
    "\n",
    "\n",
    "maxf = all_frequencies[0][1]\n",
    "cx, cy = cumulative_by_value([n for w, n in reversed(all_frequencies)])\n",
    "rx = np.asarray(cx, dtype=np.float)/maxf\n",
    "plot_cumulative(cx, cy)\n",
    "plot_cumulative(cx, cy, xlim=(1,100))\n"
   ]
  },
  {
   "cell_type": "code",
   "execution_count": 63,
   "metadata": {
    "collapsed": false
   },
   "outputs": [],
   "source": [
    "all_frequencies = word_frequencies(all_questions)"
   ]
  },
  {
   "cell_type": "code",
   "execution_count": 74,
   "metadata": {
    "collapsed": true
   },
   "outputs": [],
   "source": [
    "VocabularySize = 10000\n",
    "encoding = { w:i+1 for i, (w,n) in enumerate(all_frequencies[:VocabularySize])}"
   ]
  },
  {
   "cell_type": "code",
   "execution_count": 75,
   "metadata": {
    "collapsed": true
   },
   "outputs": [],
   "source": [
    "def encode_question(q):\n",
    "    words = q.split()\n",
    "    return map( lambda w: encoding.get(w, VocabularySize), words )"
   ]
  },
  {
   "cell_type": "code",
   "execution_count": 76,
   "metadata": {
    "collapsed": true
   },
   "outputs": [],
   "source": [
    "encoded_questions = map(encode_question, all_questions)"
   ]
  },
  {
   "cell_type": "code",
   "execution_count": 77,
   "metadata": {
    "collapsed": false
   },
   "outputs": [],
   "source": [
    "def count_unknowns(q):\n",
    "    return len([w for w in q if w == VocabularySize])"
   ]
  },
  {
   "cell_type": "code",
   "execution_count": 78,
   "metadata": {
    "collapsed": false
   },
   "outputs": [],
   "source": [
    "n = map(count_unknowns, encoded_questions)"
   ]
  },
  {
   "cell_type": "code",
   "execution_count": 82,
   "metadata": {
    "collapsed": false
   },
   "outputs": [
    {
     "name": "stdout",
     "output_type": "stream",
     "text": [
      "0 3250208\n",
      "1 1109609\n",
      "2 298018\n",
      "3 81658\n",
      "4 27228\n",
      "5 9297\n",
      "6 3657\n",
      "7 1650\n",
      "8 880\n",
      "9 505\n",
      "10 218\n",
      "11 129\n",
      "12 89\n",
      "13 49\n",
      "14 30\n",
      "15 35\n",
      "16 15\n",
      "17 23\n",
      "18 36\n",
      "19 9\n"
     ]
    },
    {
     "data": {
      "image/png": "[encoded data removed]",
      "text/plain": [
       "<matplotlib.figure.Figure at 0x19f919a10>"
      ]
     },
     "metadata": {},
     "output_type": "display_data"
    }
   ],
   "source": [
    "c = Counter(n)\n",
    "for i in range(20):\n",
    "    print i, c[i]\n",
    "plt.hist(n, bins=30)\n",
    "plt.yscale(\"log\")\n",
    "plt.show()"
   ]
  },
  {
   "cell_type": "code",
   "execution_count": null,
   "metadata": {
    "collapsed": true
   },
   "outputs": [],
   "source": []
  }
 ],
 "metadata": {
  "kernelspec": {
   "display_name": "Python 2",
   "language": "python",
   "name": "python2"
  },
  "language_info": {
   "codemirror_mode": {
    "name": "ipython",
    "version": 2
   },
   "file_extension": ".py",
   "mimetype": "text/x-python",
   "name": "python",
   "nbconvert_exporter": "python",
   "pygments_lexer": "ipython2",
   "version": "2.7.12"
  }
 },
 "nbformat": 4,
 "nbformat_minor": 0
}
